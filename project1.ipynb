{
 "cells": [
  {
   "cell_type": "code",
   "execution_count": null,
   "id": "7c5f1d64-1736-42f5-8389-6b97ee494593",
   "metadata": {},
   "outputs": [],
   "source": [
    "import os\n",
    "from tkinter import *\n",
    "import tkinter as tk\n",
    "window=Tk()\n",
    "window.geometry(\"700x350\")\n",
    "window.title(\"PythonGeeks\")\n",
    "head=Label(window, text=\"Shutdown, Restart and Logout Using Pc\", font=('Calibri 15'))\n",
    "head.pack(pady=20)\n",
    "def Shutdown():\n",
    "    os.system(\"shutdown /s /t 0\")\n",
    "def Restart():\n",
    "    os.system(\"shutdown /r /t 0\")\n",
    "def logout():\n",
    "    os.system(\"shutdown /l /t 0\")\n",
    "Button(window,text='Shutdown',command=Shutdown, font=('normal',11), bg='yellow').pack()\n",
    "Button(window,text='Restart',command=Restart,font=('normal',11), bg='yellow').pack()\n",
    "Button(window,text='Logout',command=logout,font=('normal',11), bg='yellow').pack()\n",
    "\n",
    "window.mainloop()\n"
   ]
  },
  {
   "cell_type": "code",
   "execution_count": null,
   "id": "f5880b4a-8323-4640-bd2a-9f425e0935fa",
   "metadata": {},
   "outputs": [],
   "source": []
  }
 ],
 "metadata": {
  "kernelspec": {
   "display_name": "Python [conda env:base] *",
   "language": "python",
   "name": "conda-base-py"
  },
  "language_info": {
   "codemirror_mode": {
    "name": "ipython",
    "version": 3
   },
   "file_extension": ".py",
   "mimetype": "text/x-python",
   "name": "python",
   "nbconvert_exporter": "python",
   "pygments_lexer": "ipython3",
   "version": "3.12.7"
  }
 },
 "nbformat": 4,
 "nbformat_minor": 5
}
