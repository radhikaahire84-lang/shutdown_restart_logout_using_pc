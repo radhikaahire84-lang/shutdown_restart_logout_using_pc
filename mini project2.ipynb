{
 "cells": [
  {
   "cell_type": "code",
   "execution_count": 2,
   "id": "a6358c45-ab76-4b69-b10e-8ec4dad97d33",
   "metadata": {},
   "outputs": [],
   "source": [
    "import tkinter as tk\n",
    "import random\n",
    "import time\n",
    "sentences = [\n",
    "    \"Typing speed is measured in words per minute.\",\n",
    "    \"Python is a simpl programming language.\",\n",
    "    \"Practice makes a person perfect in typing.\",\n",
    "    \"Tkinter makes GUI development simple and fast.\",\n",
    "    \"Artificial Intelligence is shaping the future.\"\n",
    "]\n",
    "start_time = 0\n",
    "selected_sentence = \"\"\n",
    "def start_test():\n",
    "    global start_time, selected_sentence\n",
    "    selected_sentence = random.choice(sentences)\n",
    "    sentence_label.config(text=selected_sentence)\n",
    "    entry.delete(0, tk.END)\n",
    "    result_label.config(text=\"\")\n",
    "    start_time = time.time()\n",
    "def check_speed():\n",
    "    end_time = time.time()\n",
    "    typed_text = entry.get()\n",
    "    time_taken = end_time - start_time\n",
    "    if typed_text.strip() == \"\":\n",
    "        result_label.config(text=\"Please type something!\")\n",
    "        return\n",
    "    word_count = len(typed_text.strip().split())\n",
    "    wpm = round((word_count / time_taken) * 60)\n",
    "    if typed_text.strip() == selected_sentence:\n",
    "        result = f\"Correct! Your typing speed is {wpm} WPM.\"\n",
    "    else:\n",
    "        result = f\"Incorrect! You typed {wpm} WPM.\"\n",
    "    result_label.config(text=result)\n",
    "root = tk.Tk()\n",
    "root.title(\"Typing Speed Test\")\n",
    "root.geometry(\"600x300\")\n",
    "root.config(bg=\"white\")\n",
    "instruction = tk.Label(root, text=\"Click 'Start Test' and type the sentence as fast as you can.\", bg=\"white\")\n",
    "instruction.pack(pady=10)\n",
    "sentence_label = tk.Label(root, text=\"\", font=(\"Arial\", 14), wraplength=500, bg=\"white\")\n",
    "sentence_label.pack(pady=10)\n",
    "entry = tk.Entry(root, font=(\"Arial\", 12), width=70)\n",
    "entry.pack(pady=10)\n",
    "start_btn = tk.Button(root, text=\"Start Test\", command=start_test, bg=\"#4CAF50\", fg=\"white\")\n",
    "start_btn.pack(pady=5)\n",
    "check_btn = tk.Button(root, text=\"Check Speed\", command=check_speed, bg=\"#2196F3\", fg=\"white\")\n",
    "check_btn.pack(pady=5)\n",
    "result_label = tk.Label(root, text=\"\", font=(\"Arial\", 12), fg=\"black\", bg=\"white\")\n",
    "result_label.pack(pady=10)\n",
    "root.mainloop()"
   ]
  },
  {
   "cell_type": "code",
   "execution_count": null,
   "id": "063eda0d-746e-468a-8511-2cedc8fb2571",
   "metadata": {},
   "outputs": [],
   "source": []
  }
 ],
 "metadata": {
  "kernelspec": {
   "display_name": "Python [conda env:base] *",
   "language": "python",
   "name": "conda-base-py"
  },
  "language_info": {
   "codemirror_mode": {
    "name": "ipython",
    "version": 3
   },
   "file_extension": ".py",
   "mimetype": "text/x-python",
   "name": "python",
   "nbconvert_exporter": "python",
   "pygments_lexer": "ipython3",
   "version": "3.12.7"
  }
 },
 "nbformat": 4,
 "nbformat_minor": 5
}
